{
 "cells": [
  {
   "cell_type": "code",
   "execution_count": 1,
   "id": "43d1db0a",
   "metadata": {},
   "outputs": [],
   "source": [
    "from data_ingestion.ingest import energy_data"
   ]
  },
  {
   "cell_type": "code",
   "execution_count": 2,
   "id": "dd10cd57",
   "metadata": {},
   "outputs": [
    {
     "data": {
      "text/plain": [
       "pandas.core.frame.DataFrame"
      ]
     },
     "execution_count": 2,
     "metadata": {},
     "output_type": "execute_result"
    }
   ],
   "source": [
    "type(energy_data)"
   ]
  },
  {
   "cell_type": "code",
   "execution_count": null,
   "id": "7e0d084d",
   "metadata": {},
   "outputs": [],
   "source": []
  },
  {
   "cell_type": "code",
   "execution_count": null,
   "id": "25b42100",
   "metadata": {},
   "outputs": [],
   "source": [
    "## Data ingestion "
   ]
  }
 ],
 "metadata": {
  "kernelspec": {
   "display_name": "Python 3 (ipykernel)",
   "language": "python",
   "name": "python3"
  },
  "language_info": {
   "codemirror_mode": {
    "name": "ipython",
    "version": 3
   },
   "file_extension": ".py",
   "mimetype": "text/x-python",
   "name": "python",
   "nbconvert_exporter": "python",
   "pygments_lexer": "ipython3",
   "version": "3.9.16"
  }
 },
 "nbformat": 4,
 "nbformat_minor": 5
}
